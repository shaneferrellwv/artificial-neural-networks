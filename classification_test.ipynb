{
 "cells": [
  {
   "cell_type": "code",
   "execution_count": 1,
   "id": "baf8e71e-eb18-4d9d-9614-ffa8830661f7",
   "metadata": {},
   "outputs": [],
   "source": [
    "import numpy as np\n",
    "import numpy.random as npr\n",
    "import matplotlib.pyplot as plt\n",
    "%matplotlib inline\n",
    "plt.style.use('bmh')\n",
    "import warnings\n",
    "warnings.filterwarnings('ignore')\n",
    "warnings.simplefilter('ignore')\n",
    "from sklearn.metrics import classification_report\n",
    "\n",
    "X = np.load('flower_species_classification/data_test.npy').T/255.0\n",
    "t_test = np.load('flower_species_classification/labels_test.npy')\n",
    "\n",
    "# Downsample images to 150x150\n",
    "X[0].reshape(300,300,3)[::2,::2].shape\n",
    "X_test = X.reshape(X.shape[0],300,300,3)[::1,::2,::2,::1]\n",
    "X_test.shape\n",
    "\n",
    "class_names = ['Roses', 'Magnolias', 'Lilies', 'Sunflowers', 'Orchids', 'Marigold', \n",
    "               'Hibiscus', 'Firebush', 'Pentas', 'Bougainvillea']"
   ]
  },
  {
   "cell_type": "code",
   "execution_count": 2,
   "id": "37403095-8d3b-473f-9916-14814c31cbad",
   "metadata": {},
   "outputs": [
    {
     "name": "stderr",
     "output_type": "stream",
     "text": [
      "2022-12-10 22:40:36.127265: I tensorflow/core/platform/cpu_feature_guard.cc:151] This TensorFlow binary is optimized with oneAPI Deep Neural Network Library (oneDNN) to use the following CPU instructions in performance-critical operations:  SSE4.1 SSE4.2 AVX AVX2 FMA\n",
      "To enable them in other operations, rebuild TensorFlow with the appropriate compiler flags.\n",
      "2022-12-10 22:40:36.658584: I tensorflow/core/common_runtime/gpu/gpu_device.cc:1525] Created device /job:localhost/replica:0/task:0/device:GPU:0 with 79111 MB memory:  -> device: 0, name: NVIDIA A100-SXM4-80GB, pci bus id: 0000:0f:00.0, compute capability: 8.0\n"
     ]
    },
    {
     "name": "stdout",
     "output_type": "stream",
     "text": [
      "TF Test Object shape:  (415, 150, 150, 3)\n"
     ]
    }
   ],
   "source": [
    "# Create TensorFlow objects\n",
    "import tensorflow as tf\n",
    "from tensorflow import keras\n",
    "X_test_rs = tf.constant(X_test.reshape((X_test.shape[0],150,150,3)), dtype=tf.float16)\n",
    "\n",
    "print('TF Test Object shape: ', X_test_rs.shape)"
   ]
  },
  {
   "cell_type": "code",
   "execution_count": 3,
   "id": "f2b85b21-6977-4a97-8777-05718148416c",
   "metadata": {},
   "outputs": [],
   "source": [
    "model = keras.models.load_model('saved_models/baseline.h5')"
   ]
  },
  {
   "cell_type": "code",
   "execution_count": 4,
   "id": "16e761af-7388-41e7-8384-bd81b2800b96",
   "metadata": {},
   "outputs": [
    {
     "name": "stderr",
     "output_type": "stream",
     "text": [
      "2022-12-10 22:40:40.151641: I tensorflow/stream_executor/cuda/cuda_dnn.cc:366] Loaded cuDNN version 8201\n",
      "2022-12-10 22:40:41.078990: W tensorflow/stream_executor/gpu/asm_compiler.cc:80] Couldn't get ptxas version string: INTERNAL: Running ptxas --version returned 32512\n",
      "2022-12-10 22:40:41.193074: W tensorflow/stream_executor/gpu/redzone_allocator.cc:314] INTERNAL: ptxas exited with non-zero error code 32512, output: \n",
      "Relying on driver to perform ptx compilation. \n",
      "Modify $PATH to customize ptxas location.\n",
      "This message will be only logged once.\n",
      "2022-12-10 22:40:42.212567: I tensorflow/stream_executor/cuda/cuda_blas.cc:1774] TensorFloat-32 will be used for the matrix multiplication. This will only be logged once.\n"
     ]
    },
    {
     "name": "stdout",
     "output_type": "stream",
     "text": [
      "               precision    recall  f1-score   support\n",
      "\n",
      "        Roses       0.71      0.98      0.82        48\n",
      "    Magnolias       0.93      0.91      0.92        44\n",
      "       Lilies       0.86      0.70      0.77        46\n",
      "   Sunflowers       0.92      0.92      0.92        36\n",
      "      Orchids       1.00      0.62      0.77        45\n",
      "     Marigold       0.95      0.95      0.95        40\n",
      "     Hibiscus       0.83      0.88      0.85        43\n",
      "     Firebush       0.89      0.92      0.91        37\n",
      "       Pentas       0.97      0.94      0.95        32\n",
      "Bougainvillea       0.82      0.93      0.87        44\n",
      "\n",
      "     accuracy                           0.87       415\n",
      "    macro avg       0.89      0.87      0.87       415\n",
      " weighted avg       0.88      0.87      0.87       415\n",
      "\n"
     ]
    }
   ],
   "source": [
    "# Model's Predictions\n",
    "y_test = np.argmax(model.predict(X_test_rs),axis=1)\n",
    "print(classification_report(t_test, y_test, target_names=class_names))"
   ]
  },
  {
   "cell_type": "code",
   "execution_count": 5,
   "id": "4812db91-4d92-4fdb-9ba1-51043c8e1428",
   "metadata": {},
   "outputs": [
    {
     "name": "stdout",
     "output_type": "stream",
     "text": [
      "               precision    recall  f1-score   support\n",
      "\n",
      "        Roses       0.00      0.00      0.00        48\n",
      "    Magnolias       0.00      0.00      0.00        44\n",
      "       Lilies       0.00      0.00      0.00        46\n",
      "   Sunflowers       0.00      0.00      0.00        36\n",
      "      Orchids       0.00      0.00      0.00        45\n",
      "     Marigold       0.12      0.33      0.17        40\n",
      "     Hibiscus       0.00      0.00      0.00        43\n",
      "     Firebush       0.11      0.89      0.19        37\n",
      "       Pentas       0.00      0.00      0.00        32\n",
      "Bougainvillea       0.00      0.00      0.00        44\n",
      "\n",
      "     accuracy                           0.11       415\n",
      "    macro avg       0.02      0.12      0.04       415\n",
      " weighted avg       0.02      0.11      0.03       415\n",
      "\n"
     ]
    }
   ],
   "source": [
    "model2 = keras.models.load_model('saved_models/test_model.h5')\n",
    "# Model's Predictions\n",
    "y_test = np.argmax(model2.predict(X_test_rs),axis=1)\n",
    "print(classification_report(t_test, y_test, target_names=class_names))"
   ]
  },
  {
   "cell_type": "code",
   "execution_count": null,
   "id": "308b0a65-baac-47f8-aca3-9b89ecefc512",
   "metadata": {},
   "outputs": [],
   "source": []
  }
 ],
 "metadata": {
  "kernelspec": {
   "display_name": "Tensorflow-2.7.0",
   "language": "python",
   "name": "tensorflow-2.7.0"
  },
  "language_info": {
   "codemirror_mode": {
    "name": "ipython",
    "version": 3
   },
   "file_extension": ".py",
   "mimetype": "text/x-python",
   "name": "python",
   "nbconvert_exporter": "python",
   "pygments_lexer": "ipython3",
   "version": "3.9.12"
  }
 },
 "nbformat": 4,
 "nbformat_minor": 5
}
