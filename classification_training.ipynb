{
 "cells": [
  {
   "cell_type": "code",
   "execution_count": 1,
   "id": "3f5a6adf-d125-4a25-8d08-4b0712aba25b",
   "metadata": {},
   "outputs": [
    {
     "data": {
      "text/plain": [
       "((1326, 150, 150, 3), (1326,), (332, 150, 150, 3), (332,))"
      ]
     },
     "execution_count": 1,
     "metadata": {},
     "output_type": "execute_result"
    }
   ],
   "source": [
    "import numpy as np\n",
    "import numpy.random as npr\n",
    "import matplotlib.pyplot as plt\n",
    "%matplotlib inline\n",
    "plt.style.use('bmh')\n",
    "import warnings\n",
    "warnings.filterwarnings('ignore')\n",
    "warnings.simplefilter('ignore')\n",
    "from sklearn.metrics import classification_report\n",
    "\n",
    "X = np.load('flower_species_classification/data_train.npy').T/255.0\n",
    "t = np.load('flower_species_classification/labels_train.npy')\n",
    "\n",
    "# Downsample images to 150x150\n",
    "X[0].reshape(300,300,3)[::2,::2].shape\n",
    "X_downsampled = X.reshape(X.shape[0],300,300,3)[::1,::2,::2,::1]\n",
    "X_downsampled.shape\n",
    "\n",
    "class_names = ['Roses', 'Magnolias', 'Lilies', 'Sunflowers', 'Orchids', 'Marigold', \n",
    "               'Hibiscus', 'Firebush', 'Pentas', 'Bougainvillea']\n",
    "\n",
    "# 80/20 train-val split\n",
    "from sklearn.model_selection import train_test_split\n",
    "X_train, X_val, t_train, t_val = train_test_split(X_downsampled, t, shuffle=True, stratify=t, test_size=0.2)\n",
    "X_train.shape, t_train.shape, X_val.shape, t_val.shape"
   ]
  },
  {
   "cell_type": "code",
   "execution_count": 2,
   "id": "d0a51b1d-789a-43ed-bf8d-ea7180458791",
   "metadata": {},
   "outputs": [
    {
     "name": "stderr",
     "output_type": "stream",
     "text": [
      "2022-12-10 22:38:38.794529: I tensorflow/core/platform/cpu_feature_guard.cc:151] This TensorFlow binary is optimized with oneAPI Deep Neural Network Library (oneDNN) to use the following CPU instructions in performance-critical operations:  SSE4.1 SSE4.2 AVX AVX2 FMA\n",
      "To enable them in other operations, rebuild TensorFlow with the appropriate compiler flags.\n",
      "2022-12-10 22:38:39.318195: I tensorflow/core/common_runtime/gpu/gpu_device.cc:1525] Created device /job:localhost/replica:0/task:0/device:GPU:0 with 79111 MB memory:  -> device: 0, name: NVIDIA A100-SXM4-80GB, pci bus id: 0000:0f:00.0, compute capability: 8.0\n"
     ]
    },
    {
     "name": "stdout",
     "output_type": "stream",
     "text": [
      "TF Training Object shape:  (1326, 150, 150, 3) \n",
      "TF Validation Object shape:  (332, 150, 150, 3)\n"
     ]
    }
   ],
   "source": [
    "# Create TensorFlow objects\n",
    "import tensorflow as tf\n",
    "from tensorflow import keras\n",
    "X_train_rs = tf.constant(X_train.reshape((X_train.shape[0],150,150,3)), dtype=tf.float32)\n",
    "X_val_rs = tf.constant(X_val.reshape((X_val.shape[0],150,150,3)), dtype=tf.float32)\n",
    "\n",
    "print('TF Training Object shape: ', X_train_rs.shape, '\\nTF Validation Object shape: ', X_val_rs.shape)"
   ]
  },
  {
   "cell_type": "code",
   "execution_count": 3,
   "id": "d9e4fc24-2764-4708-9d2a-8241e049cd52",
   "metadata": {},
   "outputs": [],
   "source": [
    "# Create Model\n",
    "def create_model(transfer_layer=keras.applications.Xception(weights='imagenet', input_shape=(150, 150, 3), include_top=False),\n",
    "                 units=100,\n",
    "                 activation_function='selu',\n",
    "                 kernel_init='lecun_normal',\n",
    "                 dropout=0.2,\n",
    "                 learning_rate=0.001):\n",
    "    # Construct Model\n",
    "    model = keras.models.Sequential([\n",
    "        transfer_layer,\n",
    "        keras.layers.Flatten(),\n",
    "        #keras.layers.GlobalAveragePooling2D(),\n",
    "        #keras.layers.Dense(300, activation='relu'),\n",
    "        keras.layers.Dense(units, activation=activation_function, kernel_initializer=kernel_init),\n",
    "        keras.layers.Dropout(rate=dropout),\n",
    "        keras.layers.Dense(10, activation='softmax')\n",
    "    ])\n",
    "    model.compile(optimizer=keras.optimizers.Adam(learning_rate=learning_rate), loss=keras.losses.SparseCategoricalCrossentropy(), metrics=['accuracy'])\n",
    "    return model"
   ]
  },
  {
   "cell_type": "code",
   "execution_count": 4,
   "id": "0374b8e2-ed43-448a-b811-bb63f1ff9a74",
   "metadata": {},
   "outputs": [
    {
     "name": "stdout",
     "output_type": "stream",
     "text": [
      "Epoch 1/10\n"
     ]
    },
    {
     "name": "stderr",
     "output_type": "stream",
     "text": [
      "2022-12-10 22:38:49.924272: I tensorflow/stream_executor/cuda/cuda_dnn.cc:366] Loaded cuDNN version 8201\n",
      "2022-12-10 22:38:50.952216: W tensorflow/stream_executor/gpu/asm_compiler.cc:80] Couldn't get ptxas version string: INTERNAL: Running ptxas --version returned 32512\n",
      "2022-12-10 22:38:51.116109: W tensorflow/stream_executor/gpu/redzone_allocator.cc:314] INTERNAL: ptxas exited with non-zero error code 32512, output: \n",
      "Relying on driver to perform ptx compilation. \n",
      "Modify $PATH to customize ptxas location.\n",
      "This message will be only logged once.\n",
      "2022-12-10 22:38:52.196739: I tensorflow/stream_executor/cuda/cuda_blas.cc:1774] TensorFloat-32 will be used for the matrix multiplication. This will only be logged once.\n"
     ]
    },
    {
     "name": "stdout",
     "output_type": "stream",
     "text": [
      "42/42 [==============================] - 12s 133ms/step - loss: 2.5955 - accuracy: 0.1456 - val_loss: 2.9836 - val_accuracy: 0.2530\n",
      "Epoch 2/10\n",
      "42/42 [==============================] - 5s 108ms/step - loss: 2.1871 - accuracy: 0.1998 - val_loss: 3.5021 - val_accuracy: 0.1807\n",
      "Epoch 3/10\n",
      "42/42 [==============================] - 5s 107ms/step - loss: 2.0557 - accuracy: 0.2104 - val_loss: 9.7052 - val_accuracy: 0.2108\n",
      "Epoch 4/10\n",
      "42/42 [==============================] - 5s 108ms/step - loss: 2.0187 - accuracy: 0.2391 - val_loss: 2.6195 - val_accuracy: 0.2590\n",
      "Epoch 5/10\n",
      "42/42 [==============================] - 5s 109ms/step - loss: 1.9055 - accuracy: 0.2858 - val_loss: 19.8690 - val_accuracy: 0.2380\n",
      "Epoch 6/10\n",
      "42/42 [==============================] - 5s 109ms/step - loss: 1.7398 - accuracy: 0.3529 - val_loss: 2.7061 - val_accuracy: 0.3494\n",
      "Epoch 7/10\n",
      "42/42 [==============================] - 4s 104ms/step - loss: 1.6419 - accuracy: 0.4291 - val_loss: 22.8847 - val_accuracy: 0.2289\n",
      "Epoch 8/10\n",
      "42/42 [==============================] - 5s 108ms/step - loss: 1.7262 - accuracy: 0.3695 - val_loss: 463.0605 - val_accuracy: 0.1084\n",
      "Epoch 9/10\n",
      "42/42 [==============================] - 5s 108ms/step - loss: 1.5897 - accuracy: 0.4005 - val_loss: 57.5745 - val_accuracy: 0.2229\n",
      "Epoch 10/10\n",
      "42/42 [==============================] - 4s 105ms/step - loss: 1.6216 - accuracy: 0.4050 - val_loss: 3.8730 - val_accuracy: 0.3042\n"
     ]
    }
   ],
   "source": [
    "# Baseline Model\n",
    "model = create_model()\n",
    "history = model.fit(X_train_rs, t_train, epochs=10, batch_size = 32, \n",
    "                        validation_data=(X_val_rs, t_val), callbacks=[keras.callbacks.EarlyStopping(patience=10)])\n",
    "#model.save('saved_models/baseline.h5')"
   ]
  },
  {
   "cell_type": "code",
   "execution_count": 5,
   "id": "b8a512bf-546e-4f95-a391-3a9c315a0c62",
   "metadata": {},
   "outputs": [
    {
     "name": "stdout",
     "output_type": "stream",
     "text": [
      "               precision    recall  f1-score   support\n",
      "\n",
      "        Roses       0.13      0.50      0.21       141\n",
      "    Magnolias       0.66      0.51      0.57       144\n",
      "       Lilies       0.42      0.58      0.49       164\n",
      "   Sunflowers       0.94      0.74      0.83       112\n",
      "      Orchids       0.56      0.88      0.69       138\n",
      "     Marigold       0.00      0.00      0.00       125\n",
      "     Hibiscus       0.19      0.23      0.20       128\n",
      "     Firebush       0.00      0.00      0.00       138\n",
      "       Pentas       0.00      0.00      0.00       130\n",
      "Bougainvillea       0.00      0.00      0.00       106\n",
      "\n",
      "     accuracy                           0.36      1326\n",
      "    macro avg       0.29      0.34      0.30      1326\n",
      " weighted avg       0.29      0.36      0.31      1326\n",
      "\n"
     ]
    },
    {
     "data": {
      "image/png": "[encoded data removed]",
      "text/plain": [
       "<Figure size 576x360 with 1 Axes>"
      ]
     },
     "metadata": {
      "needs_background": "light"
     },
     "output_type": "display_data"
    }
   ],
   "source": [
    "key_names = list(history.history.keys())\n",
    "colors = ['-r','--b','-og','-.k']\n",
    "plt.figure(figsize=(8,5))\n",
    "plt.ylim(top=1.5)\n",
    "for i in range(len(key_names)):\n",
    "    plt.plot(history.history[key_names[i]], colors[i], label=key_names[i])\n",
    "plt.legend(fontsize=15,ncol=2)\n",
    "plt.title('Learning Curves', size=15);\n",
    "# Model's Predictions\n",
    "y_train = np.argmax(model.predict(X_train_rs),axis=1)\n",
    "print(classification_report(t_train, y_train, target_names=class_names))"
   ]
  },
  {
   "cell_type": "code",
   "execution_count": null,
   "id": "edf31cd3-502d-4efb-b421-18b3b222b728",
   "metadata": {},
   "outputs": [],
   "source": [
    "# Tuning for pre-trained model\n",
    "\n",
    "# VGG16\n",
    "transfer_layer = keras.applications.VGG16(weights='imagenet', input_shape=(150, 150, 3), include_top=False)\n",
    "transfer_layer.trainable = False\n",
    "model = create_model(transfer_layer)\n",
    "history = model.fit(X_train_rs, t_train, epochs=10, batch_size = 32, \n",
    "                        validation_data=(X_val_rs, t_val), callbacks=[keras.callbacks.EarlyStopping(patience=10)])\n",
    "model.save('saved_models/VGG16.h5')\n",
    "\n",
    "# VGG19\n",
    "transfer_layer = keras.applications.VGG19(weights='imagenet', input_shape=(150, 150, 3), include_top=False)\n",
    "transfer_layer.trainable = False\n",
    "model = create_model(transfer_layer)\n",
    "history = model.fit(X_train_rs, t_train, epochs=10, batch_size = 32, \n",
    "                        validation_data=(X_val_rs, t_val), callbacks=[keras.callbacks.EarlyStopping(patience=10)])\n",
    "model.save('saved_models/VGG19.h5')"
   ]
  },
  {
   "cell_type": "code",
   "execution_count": null,
   "id": "4972a7cf-8e61-41a6-a6c4-8ef12f930f70",
   "metadata": {},
   "outputs": [],
   "source": [
    "# Tuning for number of units in first hidden layer\n",
    "\n",
    "# 1600 units\n",
    "model = create_model(units=1600)\n",
    "history = model.fit(X_train_rs, t_train, epochs=10, batch_size = 32, \n",
    "                        validation_data=(X_val_rs, t_val), callbacks=[keras.callbacks.EarlyStopping(patience=10)])\n",
    "model.save('saved_models/units_1600.h5')\n",
    "\n",
    "# 20 units\n",
    "model = create_model(units=20)\n",
    "history = model.fit(X_train_rs, t_train, epochs=10, batch_size = 32, \n",
    "                        validation_data=(X_val_rs, t_val), callbacks=[keras.callbacks.EarlyStopping(patience=10)])\n",
    "model.save('saved_models/units_20.h5')"
   ]
  },
  {
   "cell_type": "code",
   "execution_count": null,
   "id": "e2be0502-f86f-4222-8058-24f79fdde3ac",
   "metadata": {},
   "outputs": [],
   "source": [
    "# Tuning for activation function of hidden layer\n",
    "\n",
    "# ReLU\n",
    "model = create_model(activation_function='relu')\n",
    "history = model.fit(X_train_rs, t_train, epochs=10, batch_size = 32, \n",
    "                        validation_data=(X_val_rs, t_val), callbacks=[keras.callbacks.EarlyStopping(patience=10)])\n",
    "model.save('saved_models/relu.h5')\n",
    "\n",
    "# Tanh\n",
    "model = create_model(activation_function='tanh')\n",
    "history = model.fit(X_train_rs, t_train, epochs=10, batch_size = 32, \n",
    "                        validation_data=(X_val_rs, t_val), callbacks=[keras.callbacks.EarlyStopping(patience=10)])\n",
    "model.save('saved_models/tanh.h5')"
   ]
  },
  {
   "cell_type": "code",
   "execution_count": null,
   "id": "b0d0d28d-2768-4406-b9c2-f67dcc09b172",
   "metadata": {},
   "outputs": [],
   "source": [
    "# Tuning for kernel initializer of hidden layer\n",
    "\n",
    "# He\n",
    "model = create_model(kernel_init='he_normal')\n",
    "history = model.fit(X_train_rs, t_train, epochs=10, batch_size = 32, \n",
    "                        validation_data=(X_val_rs, t_val), callbacks=[keras.callbacks.EarlyStopping(patience=10)])\n",
    "model.save('saved_models/he.h5')\n",
    "\n",
    "# Glorot\n",
    "model = create_model(kernel_init='glorot_normal')\n",
    "history = model.fit(X_train_rs, t_train, epochs=10, batch_size = 32, \n",
    "                        validation_data=(X_val_rs, t_val), callbacks=[keras.callbacks.EarlyStopping(patience=10)])\n",
    "model.save('saved_models/glorot.h5')"
   ]
  },
  {
   "cell_type": "code",
   "execution_count": null,
   "id": "4ede6f9b-683f-4159-beea-81ee202dd283",
   "metadata": {},
   "outputs": [],
   "source": [
    "# Tuning for dropout\n",
    "\n",
    "# 0.5\n",
    "model = create_model(dropout=0.5)\n",
    "history = model.fit(X_train_rs, t_train, epochs=10, batch_size = 32, \n",
    "                        validation_data=(X_val_rs, t_val), callbacks=[keras.callbacks.EarlyStopping(patience=10)])\n",
    "model.save('saved_models/dropout_0.5.h5')\n",
    "\n",
    "# 0.8\n",
    "model = create_model(dropout=0.8)\n",
    "history = model.fit(X_train_rs, t_train, epochs=10, batch_size = 32, \n",
    "                        validation_data=(X_val_rs, t_val), callbacks=[keras.callbacks.EarlyStopping(patience=10)])\n",
    "model.save('saved_models/dropout_0.8.h5')"
   ]
  },
  {
   "cell_type": "code",
   "execution_count": null,
   "id": "2fa977c0-d406-486f-a707-a1500da32ada",
   "metadata": {},
   "outputs": [],
   "source": [
    "# Tuning for learning rate\n",
    "\n",
    "# 0.03\n",
    "model = create_model(learning_rate=0.003)\n",
    "history = model.fit(X_train_rs, t_train, epochs=10, batch_size = 32, \n",
    "                        validation_data=(X_val_rs, t_val), callbacks=[keras.callbacks.EarlyStopping(patience=10)])\n",
    "model.save('saved_models/learning_rate_0.003.h5')\n",
    "\n",
    "# 0.01\n",
    "model = create_model(learning_rate=0.01)\n",
    "history = model.fit(X_train_rs, t_train, epochs=10, batch_size = 32, \n",
    "                        validation_data=(X_val_rs, t_val), callbacks=[keras.callbacks.EarlyStopping(patience=10)])\n",
    "model.save('saved_models/learning_rate_0.01.h5')"
   ]
  },
  {
   "cell_type": "code",
   "execution_count": null,
   "id": "11d44324-0717-46b2-8b19-99a88bee3ef2",
   "metadata": {},
   "outputs": [],
   "source": [
    "# Tuning for number of epochs\n",
    "\n",
    "# 20 passes\n",
    "model = create_model()\n",
    "history = model.fit(X_train_rs, t_train, epochs=20, batch_size = 32, \n",
    "                        validation_data=(X_val_rs, t_val), callbacks=[keras.callbacks.EarlyStopping(patience=10)])\n",
    "model.save('saved_models/epochs_20.h5')\n",
    "\n",
    "# 30 passes\n",
    "history = model.fit(X_train_rs, t_train, epochs=30, batch_size = 32, \n",
    "                        validation_data=(X_val_rs, t_val), callbacks=[keras.callbacks.EarlyStopping(patience=10)])\n",
    "model.save('saved_models/epochs_30.h5')"
   ]
  },
  {
   "cell_type": "code",
   "execution_count": null,
   "id": "ef4d7faf-cc4c-4440-9bda-dbbca4843aaf",
   "metadata": {},
   "outputs": [],
   "source": [
    "# Tuning for batch size\n",
    "\n",
    "# 64\n",
    "model = create_model()\n",
    "history = model.fit(X_train_rs, t_train, epochs=10, batch_size = 64, \n",
    "                        validation_data=(X_val_rs, t_val), callbacks=[keras.callbacks.EarlyStopping(patience=10)])\n",
    "model.save('saved_models/batch_64.h5')\n",
    "\n",
    "# 10\n",
    "history = model.fit(X_train_rs, t_train, epochs=10, batch_size = 10, \n",
    "                        validation_data=(X_val_rs, t_val), callbacks=[keras.callbacks.EarlyStopping(patience=10)])\n",
    "model.save('saved_models/batch_10.h5')"
   ]
  },
  {
   "cell_type": "code",
   "execution_count": null,
   "id": "ada06a93-98e8-4be0-b236-149a2cfd7be0",
   "metadata": {},
   "outputs": [],
   "source": [
    "# Tuning for checkpoints\n",
    "\n",
    "# save best only\n",
    "model = create_model()\n",
    "history = model.fit(X_train_rs, t_train, epochs=5, batch_size = 32, \n",
    "                        validation_data=(X_val_rs, t_val), callbacks=[keras.callbacks.ModelCheckpoint('my_keras_model.h5', save_best_only=True)])\n",
    "model.save('saved_models/checkpoints.h5')"
   ]
  },
  {
   "cell_type": "code",
   "execution_count": null,
   "id": "f7b0d5ea-feae-49b3-a6f6-521313bab018",
   "metadata": {},
   "outputs": [],
   "source": [
    "# Tuning for hidden layers\n",
    "\n",
    "# 2 hidden layers\n",
    "transfer_layer=keras.applications.Xception(weights='imagenet', input_shape=(150, 150, 3), include_top=False)\n",
    "model = keras.models.Sequential([\n",
    "    transfer_layer,\n",
    "    keras.layers.Flatten(),\n",
    "    keras.layers.Dense(300, activation='selu'),\n",
    "    keras.layers.Dense(100, activation='selu', kernel_initializer='lecun_normal'),\n",
    "    keras.layers.Dropout(rate=0.2),\n",
    "    keras.layers.Dense(10, activation='softmax')\n",
    "])\n",
    "model.compile(optimizer=keras.optimizers.Adam(learning_rate=0.001), loss=keras.losses.SparseCategoricalCrossentropy(), metrics=['accuracy'])\n",
    "history = model.fit(X_train_rs, t_train, epochs=5, batch_size = 32, \n",
    "                        validation_data=(X_val_rs, t_val), callbacks=[keras.callbacks.ModelCheckpoint('my_keras_model.h5', save_best_only=True)])\n",
    "model.save('saved_models/hidden_layers_2.h5')\n",
    "\n",
    "# 3 hidden layers\n",
    "transfer_layer=keras.applications.Xception(weights='imagenet', input_shape=(150, 150, 3), include_top=False)\n",
    "model = keras.models.Sequential([\n",
    "    transfer_layer,\n",
    "    keras.layers.Flatten(),\n",
    "    keras.layers.Dense(1000, activation='selu'),\n",
    "    keras.layers.Dense(300, activation='selu'),\n",
    "    keras.layers.Dense(100, activation='selu', kernel_initializer='lecun_normal'),\n",
    "    keras.layers.Dropout(rate=0.2),\n",
    "    keras.layers.Dense(10, activation='softmax')\n",
    "])\n",
    "model.compile(optimizer=keras.optimizers.Adam(learning_rate=0.001), loss=keras.losses.SparseCategoricalCrossentropy(), metrics=['accuracy'])\n",
    "history = model.fit(X_train_rs, t_train, epochs=5, batch_size = 32, \n",
    "                        validation_data=(X_val_rs, t_val), callbacks=[keras.callbacks.ModelCheckpoint('my_keras_model.h5', save_best_only=True)])\n",
    "model.save('saved_models/hidden_layers_3.h5')"
   ]
  },
  {
   "cell_type": "code",
   "execution_count": null,
   "id": "154fd98e-6838-4b8e-8d5d-7223f0773d07",
   "metadata": {},
   "outputs": [],
   "source": [
    "# Creating model with best independent design choices and hyperparameters\n",
    "\n",
    "transfer_layer=keras.applications.VGG16(weights='imagenet', input_shape=(150, 150, 3), include_top=False)\n",
    "model = keras.models.Sequential([\n",
    "    transfer_layer,\n",
    "    keras.layers.Flatten(),\n",
    "    keras.layers.Dense(100, activation='tanh'),\n",
    "    keras.layers.Dense(20, activation='tanh', kernel_initializer='he_normal'),\n",
    "    keras.layers.Dropout(rate=0.2),\n",
    "    keras.layers.Dense(10, activation='softmax')\n",
    "])\n",
    "model.compile(optimizer=keras.optimizers.Adam(learning_rate=0.001), loss=keras.losses.SparseCategoricalCrossentropy(), metrics=['accuracy'])\n",
    "history = model.fit(X_train_rs, t_train, epochs=5, batch_size = 32, \n",
    "                        validation_data=(X_val_rs, t_val), callbacks=[keras.callbacks.ModelCheckpoint('my_keras_model.h5', save_best_only=True)])\n",
    "model.save('saved_models/test_model.h5')"
   ]
  }
 ],
 "metadata": {
  "kernelspec": {
   "display_name": "Tensorflow-2.7.0",
   "language": "python",
   "name": "tensorflow-2.7.0"
  },
  "language_info": {
   "codemirror_mode": {
    "name": "ipython",
    "version": 3
   },
   "file_extension": ".py",
   "mimetype": "text/x-python",
   "name": "python",
   "nbconvert_exporter": "python",
   "pygments_lexer": "ipython3",
   "version": "3.9.12"
  }
 },
 "nbformat": 4,
 "nbformat_minor": 5
}
