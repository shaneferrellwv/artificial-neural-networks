{
 "cells": [
  {
   "cell_type": "code",
   "execution_count": 1,
   "id": "f22ffac1-d866-4d2d-9b74-eb67d5624558",
   "metadata": {},
   "outputs": [
    {
     "data": {
      "text/plain": [
       "(559, 770644)"
      ]
     },
     "execution_count": 1,
     "metadata": {},
     "output_type": "execute_result"
    }
   ],
   "source": [
    "import numpy as np\n",
    "import numpy.random as npr\n",
    "import matplotlib.pyplot as plt\n",
    "%matplotlib inline\n",
    "plt.style.use('bmh')\n",
    "from PIL import Image\n",
    "import cv2\n",
    "import pandas as pd\n",
    "\n",
    "t = pd.read_csv('car_detection_dataset/train_bounding_boxes.csv')\n",
    "\n",
    "N = len(t)\n",
    "# Create a numpy array with all images\n",
    "for i in range(N): \n",
    "    filename = 'car_detection_dataset/training_images/' + t['image'][i]\n",
    "    image = np.array(Image.open(filename))\n",
    "    image_col = image.ravel()[:,np.newaxis]\n",
    "    if i==0:\n",
    "        X_training = image_col\n",
    "    else:\n",
    "        X_training = np.hstack((X_training, image_col))\n",
    "\n",
    "# Training feature matrices\n",
    "X_train = X_training.T\n",
    "\n",
    "t = t.drop('image', axis=1).round().to_numpy().astype(int)\n",
    "\n",
    "training_set = np.hstack((X_train, t))\n",
    "training_set.shape"
   ]
  },
  {
   "cell_type": "code",
   "execution_count": 2,
   "id": "8678528e-1a5e-4b5b-b595-71254d014f3b",
   "metadata": {},
   "outputs": [],
   "source": [
    "images = pd.read_csv('car_detection_dataset/train_bounding_boxes.csv')['image']\n",
    "#images"
   ]
  },
  {
   "cell_type": "code",
   "execution_count": 3,
   "id": "fa9f3eed-25e0-4494-a17c-ffe632094c68",
   "metadata": {},
   "outputs": [
    {
     "data": {
      "text/plain": [
       "((447, 770644), (112, 770644))"
      ]
     },
     "execution_count": 3,
     "metadata": {},
     "output_type": "execute_result"
    }
   ],
   "source": [
    "# 80/20 train-val split\n",
    "from sklearn.model_selection import train_test_split\n",
    "X_train, X_val = train_test_split(training_set, shuffle=False, test_size=0.2)\n",
    "X_train.shape, X_val.shape"
   ]
  },
  {
   "cell_type": "code",
   "execution_count": 4,
   "id": "9a224e3a-adfe-4b78-9a74-6165eeddf94c",
   "metadata": {},
   "outputs": [
    {
     "data": {
      "text/plain": [
       "((447, 4), (112, 4))"
      ]
     },
     "execution_count": 4,
     "metadata": {},
     "output_type": "execute_result"
    }
   ],
   "source": [
    "t_train = X_train[:,-4:]\n",
    "t_val = X_val[:,-4:]\n",
    "t_train.shape, t_val.shape"
   ]
  },
  {
   "cell_type": "code",
   "execution_count": 5,
   "id": "2ff014a1-fbed-452e-8a8a-4a84b8747d3a",
   "metadata": {},
   "outputs": [
    {
     "data": {
      "text/plain": [
       "((447, 770640), (112, 770640))"
      ]
     },
     "execution_count": 5,
     "metadata": {},
     "output_type": "execute_result"
    }
   ],
   "source": [
    "X_train = X_train[:,:-4]\n",
    "X_val = X_val[:,:-4]\n",
    "X_train.shape, X_val.shape"
   ]
  },
  {
   "cell_type": "code",
   "execution_count": 6,
   "id": "0e592f7a-34df-427e-a763-2c32d5f84665",
   "metadata": {},
   "outputs": [
    {
     "name": "stderr",
     "output_type": "stream",
     "text": [
      "2022-12-10 22:06:29.643336: I tensorflow/core/platform/cpu_feature_guard.cc:151] This TensorFlow binary is optimized with oneAPI Deep Neural Network Library (oneDNN) to use the following CPU instructions in performance-critical operations:  SSE4.1 SSE4.2 AVX AVX2 FMA\n",
      "To enable them in other operations, rebuild TensorFlow with the appropriate compiler flags.\n",
      "2022-12-10 22:06:30.165143: I tensorflow/core/common_runtime/gpu/gpu_device.cc:1525] Created device /job:localhost/replica:0/task:0/device:GPU:0 with 79111 MB memory:  -> device: 0, name: NVIDIA A100-SXM4-80GB, pci bus id: 0000:0f:00.0, compute capability: 8.0\n"
     ]
    },
    {
     "name": "stdout",
     "output_type": "stream",
     "text": [
      "TF Training Object shape:  (447, 380, 676, 3) \n",
      "TF Validation Object shape:  (112, 380, 676, 3)\n"
     ]
    }
   ],
   "source": [
    "import tensorflow as tf\n",
    "from tensorflow import keras\n",
    "X_train_rs = tf.constant(X_train.reshape((X_train.shape[0],380,676,3)), dtype=tf.float32)\n",
    "X_val_rs = tf.constant(X_val.reshape((X_val.shape[0],380,676,3)), dtype=tf.float32)\n",
    "\n",
    "print('TF Training Object shape: ', X_train_rs.shape, '\\nTF Validation Object shape: ', X_val_rs.shape)"
   ]
  },
  {
   "cell_type": "code",
   "execution_count": 7,
   "id": "1448a981-6a57-44a5-aad0-0f809f420f69",
   "metadata": {},
   "outputs": [],
   "source": [
    "transfer_layer=keras.applications.Xception(weights='imagenet', input_shape=(380, 676, 3), include_top=False)\n",
    "transfer_layer.trainable = True\n",
    "model = keras.models.Sequential([ \n",
    "    transfer_layer, \n",
    "    #keras.layers.GlobalAveragePooling2D(),\n",
    "    keras.layers.Flatten(),\n",
    "    keras.layers.Dense(100, activation='selu', kernel_initializer='lecun_normal'),\n",
    "    keras.layers.Dropout(rate=0.5),  \n",
    "    keras.layers.Dense(50, activation='selu', kernel_initializer='lecun_normal'),\n",
    "    keras.layers.Dropout(rate=0.5), \n",
    "    keras.layers.Dense(4, activation='relu') \n",
    "])\n",
    "model.compile(optimizer=keras.optimizers.Adam(0.0003), loss=keras.losses.MeanSquaredError(), metrics=['accuracy'])"
   ]
  },
  {
   "cell_type": "code",
   "execution_count": null,
   "id": "d5ebde49-9eda-465c-841e-ab8132ae0f32",
   "metadata": {},
   "outputs": [],
   "source": [
    "history = model.fit(X_train_rs, t_train, epochs=10, batch_size=32, \n",
    "                    validation_data=(X_val_rs, t_val), callbacks=[keras.callbacks.EarlyStopping(patience=5)])"
   ]
  },
  {
   "cell_type": "code",
   "execution_count": 8,
   "id": "071679cb-53e5-4d44-be02-3ff3ff957cfb",
   "metadata": {},
   "outputs": [],
   "source": [
    "#model.save('saved_models/regression.h5')\n",
    "model = keras.models.load_model('saved_models/regression.h5')"
   ]
  },
  {
   "cell_type": "code",
   "execution_count": null,
   "id": "48b4ad42-5655-40db-a34d-75874d1989c4",
   "metadata": {},
   "outputs": [],
   "source": [
    "key_names = list(history.history.keys())\n",
    "colors = ['-r','--b','-og','-.k']\n",
    "plt.figure(figsize=(8,5))\n",
    "plt.ylim(top=1.0)\n",
    "for i in range(len(key_names)):\n",
    "    plt.plot(history.history[key_names[i]], colors[i], label=key_names[i])\n",
    "plt.legend(fontsize=15,ncol=2)\n",
    "plt.title('Learning Curves', size=15);"
   ]
  },
  {
   "cell_type": "code",
   "execution_count": null,
   "id": "10769e55-0ae4-4672-b996-9e1201514497",
   "metadata": {},
   "outputs": [],
   "source": [
    "key_names = list(history.history.keys())\n",
    "colors = ['-r','--b','-og','-.k']\n",
    "plt.figure(figsize=(8,5))\n",
    "for i in [0,2]:\n",
    "    plt.plot(history.history[key_names[i]], colors[i], label=key_names[i])\n",
    "plt.legend(fontsize=15,ncol=2)\n",
    "plt.title('Learning Curves', size=15);"
   ]
  },
  {
   "cell_type": "code",
   "execution_count": 10,
   "id": "72dc2af1-55c1-4a68-9c33-f816285d295b",
   "metadata": {},
   "outputs": [
    {
     "name": "stderr",
     "output_type": "stream",
     "text": [
      "2022-12-10 22:06:58.677356: I tensorflow/stream_executor/cuda/cuda_dnn.cc:366] Loaded cuDNN version 8201\n",
      "2022-12-10 22:06:59.790754: W tensorflow/stream_executor/gpu/asm_compiler.cc:80] Couldn't get ptxas version string: INTERNAL: Running ptxas --version returned 32512\n",
      "2022-12-10 22:06:59.997223: W tensorflow/stream_executor/gpu/redzone_allocator.cc:314] INTERNAL: ptxas exited with non-zero error code 32512, output: \n",
      "Relying on driver to perform ptx compilation. \n",
      "Modify $PATH to customize ptxas location.\n",
      "This message will be only logged once.\n",
      "2022-12-10 22:07:01.325540: I tensorflow/stream_executor/cuda/cuda_blas.cc:1774] TensorFloat-32 will be used for the matrix multiplication. This will only be logged once.\n"
     ]
    },
    {
     "data": {
      "text/plain": [
       "(447, 4)"
      ]
     },
     "execution_count": 10,
     "metadata": {},
     "output_type": "execute_result"
    }
   ],
   "source": [
    "# Model's Predictions\n",
    "y_train = model.predict(X_train_rs)\n",
    "y_train = y_train.astype(int)\n",
    "y_train.shape"
   ]
  }
 ],
 "metadata": {
  "kernelspec": {
   "display_name": "Tensorflow-2.7.0",
   "language": "python",
   "name": "tensorflow-2.7.0"
  },
  "language_info": {
   "codemirror_mode": {
    "name": "ipython",
    "version": 3
   },
   "file_extension": ".py",
   "mimetype": "text/x-python",
   "name": "python",
   "nbconvert_exporter": "python",
   "pygments_lexer": "ipython3",
   "version": "3.9.12"
  }
 },
 "nbformat": 4,
 "nbformat_minor": 5
}
