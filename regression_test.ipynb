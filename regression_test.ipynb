{
 "cells": [
  {
   "cell_type": "code",
   "execution_count": 1,
   "id": "7be95309-17ca-4e0a-92b6-570474ce376c",
   "metadata": {},
   "outputs": [
    {
     "data": {
      "text/plain": [
       "(175, 770640)"
      ]
     },
     "execution_count": 1,
     "metadata": {},
     "output_type": "execute_result"
    }
   ],
   "source": [
    "import numpy as np\n",
    "import numpy.random as npr\n",
    "import matplotlib.pyplot as plt\n",
    "%matplotlib inline\n",
    "plt.style.use('bmh')\n",
    "from PIL import Image\n",
    "import cv2\n",
    "import pandas as pd\n",
    "\n",
    "import os\n",
    "files = os.listdir('car_detection_dataset/testing_images/')\n",
    "\n",
    "# Create a numpy array with all images\n",
    "i=0\n",
    "for filename in files:\n",
    "    image = np.array(Image.open('car_detection_dataset/testing_images/' + filename))\n",
    "    image_col = image.ravel()[:,np.newaxis]\n",
    "    if i==0:\n",
    "        X_testing = image_col\n",
    "        i=-1\n",
    "    else:\n",
    "        X_testing = np.hstack((X_testing, image_col))\n",
    "\n",
    "# Training feature matrices\n",
    "X_test = X_testing.T\n",
    "\n",
    "X_test.shape"
   ]
  },
  {
   "cell_type": "code",
   "execution_count": 2,
   "id": "6475cb56-5100-4851-872a-db121a66bd1e",
   "metadata": {},
   "outputs": [
    {
     "name": "stderr",
     "output_type": "stream",
     "text": [
      "2022-12-10 21:53:55.383583: I tensorflow/core/platform/cpu_feature_guard.cc:151] This TensorFlow binary is optimized with oneAPI Deep Neural Network Library (oneDNN) to use the following CPU instructions in performance-critical operations:  SSE4.1 SSE4.2 AVX AVX2 FMA\n",
      "To enable them in other operations, rebuild TensorFlow with the appropriate compiler flags.\n",
      "2022-12-10 21:53:55.922455: I tensorflow/core/common_runtime/gpu/gpu_device.cc:1525] Created device /job:localhost/replica:0/task:0/device:GPU:0 with 79111 MB memory:  -> device: 0, name: NVIDIA A100-SXM4-80GB, pci bus id: 0000:0f:00.0, compute capability: 8.0\n"
     ]
    },
    {
     "name": "stdout",
     "output_type": "stream",
     "text": [
      "TF Test Object shape:  (175, 380, 676, 3)\n"
     ]
    }
   ],
   "source": [
    "import tensorflow as tf\n",
    "from tensorflow import keras\n",
    "X_test_rs = tf.constant(X_test.reshape((X_test.shape[0],380,676,3)), dtype=tf.float32)\n",
    "\n",
    "print('TF Test Object shape: ', X_test_rs.shape)"
   ]
  },
  {
   "cell_type": "code",
   "execution_count": 3,
   "id": "ad7a09a6-bb99-4d57-92df-3c60588809b2",
   "metadata": {},
   "outputs": [],
   "source": [
    "model = keras.models.load_model('saved_models/regression.h5')"
   ]
  },
  {
   "cell_type": "code",
   "execution_count": 4,
   "id": "86c3677f-7598-44ec-acda-0e825b8d4bfb",
   "metadata": {},
   "outputs": [
    {
     "name": "stderr",
     "output_type": "stream",
     "text": [
      "2022-12-10 21:54:01.561947: I tensorflow/stream_executor/cuda/cuda_dnn.cc:366] Loaded cuDNN version 8201\n",
      "2022-12-10 21:54:02.485154: W tensorflow/stream_executor/gpu/asm_compiler.cc:80] Couldn't get ptxas version string: INTERNAL: Running ptxas --version returned 32512\n",
      "2022-12-10 21:54:02.597733: W tensorflow/stream_executor/gpu/redzone_allocator.cc:314] INTERNAL: ptxas exited with non-zero error code 32512, output: \n",
      "Relying on driver to perform ptx compilation. \n",
      "Modify $PATH to customize ptxas location.\n",
      "This message will be only logged once.\n",
      "2022-12-10 21:54:03.930305: I tensorflow/stream_executor/cuda/cuda_blas.cc:1774] TensorFloat-32 will be used for the matrix multiplication. This will only be logged once.\n"
     ]
    },
    {
     "data": {
      "text/plain": [
       "(175, 4)"
      ]
     },
     "execution_count": 4,
     "metadata": {},
     "output_type": "execute_result"
    }
   ],
   "source": [
    "# Model's Predictions\n",
    "y_test = model.predict(X_test_rs)\n",
    "y_test = y_test.astype(int)\n",
    "y_test.shape"
   ]
  },
  {
   "cell_type": "code",
   "execution_count": null,
   "id": "eed63305-cf59-456c-81a8-64c7212986aa",
   "metadata": {},
   "outputs": [],
   "source": [
    "idx=0\n",
    "x= np.array(Image.open('car_detection_dataset/testing_images/' + files[idx]))\n",
    "cv2.rectangle(x, (y_test[idx,0], y_test[idx,1]), (y_test[idx,2], y_test[idx,3]), (0, 255, 0), 2);\n",
    "plt.imshow(x)"
   ]
  },
  {
   "cell_type": "markdown",
   "id": "da464da3-0ef5-4907-b542-5f1f6b114a2b",
   "metadata": {},
   "source": [
    "## "
   ]
  }
 ],
 "metadata": {
  "kernelspec": {
   "display_name": "Tensorflow-2.7.0",
   "language": "python",
   "name": "tensorflow-2.7.0"
  },
  "language_info": {
   "codemirror_mode": {
    "name": "ipython",
    "version": 3
   },
   "file_extension": ".py",
   "mimetype": "text/x-python",
   "name": "python",
   "nbconvert_exporter": "python",
   "pygments_lexer": "ipython3",
   "version": "3.9.12"
  }
 },
 "nbformat": 4,
 "nbformat_minor": 5
}
